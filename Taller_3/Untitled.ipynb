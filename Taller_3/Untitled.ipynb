{
 "cells": [
  {
   "cell_type": "markdown",
   "id": "ed254099",
   "metadata": {},
   "source": [
    "## Imports"
   ]
  },
  {
   "cell_type": "code",
   "execution_count": null,
   "id": "ec1535c3",
   "metadata": {},
   "outputs": [],
   "source": [
    "import pandas as pd\n",
    "import numpy as np\n",
    "import matplotlib.pyplot as plt\n",
    "import seaborn as sns\n",
    "import missingno as msno\n",
    "import warnings"
   ]
  },
  {
   "cell_type": "markdown",
   "id": "259c511f",
   "metadata": {},
   "source": [
    "Link a mi GitHub con el Taller:  https://github.com/louisboza/DS_UC_Diplomado/blob/main/Taller_2/16841206-1.ipynb"
   ]
  },
  {
   "cell_type": "markdown",
   "id": "a22ad6b2",
   "metadata": {},
   "source": [
    "## Pregunta 1\n",
    "\n",
    "Realice un análisis de componentes principales seleccione la cantidad de componentes que expliquen al menos el 70% de la variabilidad de los datos."
   ]
  },
  {
   "cell_type": "code",
   "execution_count": null,
   "id": "ec02bcd2",
   "metadata": {},
   "outputs": [],
   "source": [
    "url1 = 'https://raw.githubusercontent.com/louisboza/DS_UC_Diplomado/main/Taller_2/scr/Lluvia_full.csv'\n",
    "df = pd.read_csv(url1)"
   ]
  }
 ],
 "metadata": {
  "kernelspec": {
   "display_name": "Python 3 (ipykernel)",
   "language": "python",
   "name": "python3"
  },
  "language_info": {
   "codemirror_mode": {
    "name": "ipython",
    "version": 3
   },
   "file_extension": ".py",
   "mimetype": "text/x-python",
   "name": "python",
   "nbconvert_exporter": "python",
   "pygments_lexer": "ipython3",
   "version": "3.9.13"
  }
 },
 "nbformat": 4,
 "nbformat_minor": 5
}
